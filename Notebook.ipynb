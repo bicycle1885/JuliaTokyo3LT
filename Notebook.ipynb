{
 "cells": [
  {
   "cell_type": "code",
   "execution_count": 193,
   "metadata": {
    "collapsed": false
   },
   "outputs": [
    {
     "name": "stdout",
     "output_type": "stream",
     "text": [
      "Populating the interactive namespace from numpy and matplotlib\n"
     ]
    },
    {
     "name": "stderr",
     "output_type": "stream",
     "text": [
      "WARNING: pylab import has clobbered these variables: ['dot']\n",
      "`%matplotlib` prevents importing * from pylab and numpy\n"
     ]
    }
   ],
   "source": [
    "%pylab inline"
   ]
  },
  {
   "cell_type": "markdown",
   "metadata": {},
   "source": [
    "## Case 1"
   ]
  },
  {
   "cell_type": "code",
   "execution_count": 81,
   "metadata": {
    "collapsed": false
   },
   "outputs": [
    {
     "name": "stdout",
     "output_type": "stream",
     "text": [
      "s = 0\r\n",
      "n = 50000000\r\n",
      "for i in 1:n\r\n",
      "    s += i\r\n",
      "end\r\n",
      "println(s)\r\n"
     ]
    }
   ],
   "source": [
    "cat case1.jl"
   ]
  },
  {
   "cell_type": "code",
   "execution_count": 82,
   "metadata": {
    "collapsed": false
   },
   "outputs": [
    {
     "name": "stdout",
     "output_type": "stream",
     "text": [
      "s = 0\r\n",
      "n = 50000000\r\n",
      "for i in xrange(1, n + 1):\r\n",
      "    s += i\r\n",
      "print(s)\r\n"
     ]
    }
   ],
   "source": [
    "cat case1.py"
   ]
  },
  {
   "cell_type": "code",
   "execution_count": 83,
   "metadata": {
    "collapsed": false
   },
   "outputs": [
    {
     "name": "stdout",
     "output_type": "stream",
     "text": [
      "1250000025000000\n",
      "\n",
      "real\t0m9.859s\n",
      "user\t0m9.051s\n",
      "sys\t0m0.770s\n"
     ]
    }
   ],
   "source": [
    "!time julia case1.jl"
   ]
  },
  {
   "cell_type": "code",
   "execution_count": 84,
   "metadata": {
    "collapsed": false
   },
   "outputs": [
    {
     "name": "stdout",
     "output_type": "stream",
     "text": [
      "1250000025000000\r\n",
      "\r\n",
      "real\t0m5.998s\r\n",
      "user\t0m5.738s\r\n",
      "sys\t0m0.046s\r\n"
     ]
    }
   ],
   "source": [
    "!time python case1.py"
   ]
  },
  {
   "cell_type": "code",
   "execution_count": 194,
   "metadata": {
    "collapsed": false
   },
   "outputs": [
    {
     "data": {
      "image/png": "[encoded data removed]",
      "text/plain": [
       "<matplotlib.figure.Figure at 0x11c992790>"
      ]
     },
     "metadata": {},
     "output_type": "display_data"
    }
   ],
   "source": [
    "figsize(6, 4)\n",
    "bar([1, 2], [9.859, 5.998], align=\"center\", color=\"steelblue\")\n",
    "ylabel(\"elapsed time [sec]\", fontsize=16)\n",
    "xticks([1, 2], [\"Julia\", \"Python\"], fontsize=24)\n",
    "savefig(\"images/case1.png\")"
   ]
  },
  {
   "cell_type": "code",
   "execution_count": 69,
   "metadata": {
    "collapsed": false
   },
   "outputs": [
    {
     "name": "stdout",
     "output_type": "stream",
     "text": [
      "let\r\n",
      "    s = 0\r\n",
      "    n = 50000000\r\n",
      "    for i in 1:n\r\n",
      "        s += i\r\n",
      "    end\r\n",
      "    println(s)\r\n",
      "end\r\n"
     ]
    }
   ],
   "source": [
    "cat case1.fix.jl"
   ]
  },
  {
   "cell_type": "code",
   "execution_count": 70,
   "metadata": {
    "collapsed": false
   },
   "outputs": [
    {
     "name": "stdout",
     "output_type": "stream",
     "text": [
      "1250000025000000\n",
      "\n",
      "real\t0m0.494s\n",
      "user\t0m0.475s\n",
      "sys\t0m0.082s\n"
     ]
    }
   ],
   "source": [
    "!time julia case1.fix.jl"
   ]
  },
  {
   "cell_type": "code",
   "execution_count": 195,
   "metadata": {
    "collapsed": false
   },
   "outputs": [
    {
     "data": {
      "image/png": "[encoded data removed]",
      "text/plain": [
       "<matplotlib.figure.Figure at 0x11ce67850>"
      ]
     },
     "metadata": {},
     "output_type": "display_data"
    }
   ],
   "source": [
    "figsize(8, 4)\n",
    "bar([1, 2, 3], [9.859, 0.494, 5.998], align=\"center\", color=\"steelblue\")\n",
    "ylabel(\"elapsed time [sec]\", fontsize=16)\n",
    "xticks([1, 2, 3], [\"Julia\", \"Julia (fixed)\", \"Python\"], fontsize=24)\n",
    "savefig(\"images/case1.fix.png\")"
   ]
  },
  {
   "cell_type": "code",
   "execution_count": 116,
   "metadata": {
    "collapsed": false
   },
   "outputs": [
    {
     "data": {
      "text/plain": [
       "19.95748987854251"
      ]
     },
     "execution_count": 116,
     "metadata": {},
     "output_type": "execute_result"
    }
   ],
   "source": [
    "9.859 / 0.494"
   ]
  },
  {
   "cell_type": "markdown",
   "metadata": {},
   "source": [
    "## Case 2"
   ]
  },
  {
   "cell_type": "code",
   "execution_count": 118,
   "metadata": {
    "collapsed": false
   },
   "outputs": [
    {
     "name": "stdout",
     "output_type": "stream",
     "text": [
      "function dot(x, y)\r\n",
      "    s = 0\r\n",
      "    for i in 1:length(x)\r\n",
      "        s += x[i] * y[i]\r\n",
      "    end\r\n",
      "    s\r\n",
      "end\r\n",
      "\r\n",
      "n = 10000000\r\n",
      "x = zeros(n)\r\n",
      "y = zeros(n)\r\n",
      "dot(x[1:3], y[1:3])  # compile\r\n"
     ]
    }
   ],
   "source": [
    "cat case2.jl"
   ]
  },
  {
   "cell_type": "code",
   "execution_count": 119,
   "metadata": {
    "collapsed": false
   },
   "outputs": [
    {
     "name": "stdout",
     "output_type": "stream",
     "text": [
      "def dot(x, y):\r\n",
      "    s = 0\r\n",
      "    for i in xrange(len(x)):\r\n",
      "        s += x[i] * y[i]\r\n",
      "    return s\r\n",
      "\r\n",
      "n = 10000000\r\n",
      "x = [0] * n\r\n",
      "y = [0] * n\r\n"
     ]
    }
   ],
   "source": [
    "cat case2.py"
   ]
  },
  {
   "cell_type": "code",
   "execution_count": 120,
   "metadata": {
    "collapsed": false
   },
   "outputs": [
    {
     "name": "stdout",
     "output_type": "stream",
     "text": [
      "elapsed time: 0.814667538 seconds (320013880 bytes allocated, 17.52% gc time)\n"
     ]
    }
   ],
   "source": [
    "!julia -L case2.jl -e '@time dot(x, y)'"
   ]
  },
  {
   "cell_type": "code",
   "execution_count": 121,
   "metadata": {
    "collapsed": true
   },
   "outputs": [],
   "source": [
    "run case2"
   ]
  },
  {
   "cell_type": "code",
   "execution_count": 128,
   "metadata": {
    "collapsed": false
   },
   "outputs": [
    {
     "name": "stdout",
     "output_type": "stream",
     "text": [
      "1 loops, best of 3: 1.1 s per loop\n"
     ]
    }
   ],
   "source": [
    "%timeit dot(x, y)"
   ]
  },
  {
   "cell_type": "code",
   "execution_count": 131,
   "metadata": {
    "collapsed": false
   },
   "outputs": [
    {
     "data": {
      "image/png": "[encoded data removed]",
      "text/plain": [
       "<matplotlib.figure.Figure at 0x11c6957d0>"
      ]
     },
     "metadata": {},
     "output_type": "display_data"
    }
   ],
   "source": [
    "figsize(6, 4)\n",
    "bar([1, 2], [0.814667538, 1.1], align=\"center\", color=\"steelblue\")\n",
    "ylabel(\"elapsed time [sec]\", fontsize=16)\n",
    "xticks([1, 2], [\"Julia\", \"Python\"], fontsize=24)\n",
    "savefig(\"images/case2.png\")"
   ]
  },
  {
   "cell_type": "code",
   "execution_count": 126,
   "metadata": {
    "collapsed": false
   },
   "outputs": [
    {
     "name": "stdout",
     "output_type": "stream",
     "text": [
      "function dot(x, y)\r\n",
      "    s = zero(eltype(x))\r\n",
      "    for i in 1:length(x)\r\n",
      "        s += x[i] * y[i]\r\n",
      "    end\r\n",
      "    s\r\n",
      "end\r\n",
      "\r\n",
      "n = 10000000\r\n",
      "x = zeros(n)\r\n",
      "y = zeros(n)\r\n",
      "dot(x[1:3], y[1:3])  # compile\r\n"
     ]
    }
   ],
   "source": [
    "cat case2.fix.jl"
   ]
  },
  {
   "cell_type": "code",
   "execution_count": 125,
   "metadata": {
    "collapsed": false
   },
   "outputs": [
    {
     "name": "stdout",
     "output_type": "stream",
     "text": [
      "elapsed time: 0.017035491 seconds (13896 bytes allocated)\n"
     ]
    }
   ],
   "source": [
    "!julia -L case2.fix.jl -e '@time dot(x, y)'"
   ]
  },
  {
   "cell_type": "code",
   "execution_count": 132,
   "metadata": {
    "collapsed": false
   },
   "outputs": [
    {
     "data": {
      "image/png": "[encoded data removed]",
      "text/plain": [
       "<matplotlib.figure.Figure at 0x11cab7c90>"
      ]
     },
     "metadata": {},
     "output_type": "display_data"
    }
   ],
   "source": [
    "figsize(8, 4)\n",
    "bar([1, 2, 3], [0.814667538, 0.017035491, 1.1], align=\"center\", color=\"steelblue\")\n",
    "ylabel(\"elapsed time [sec]\", fontsize=16)\n",
    "xticks([1, 2, 3], [\"Julia\", \"Julia (fixed)\", \"Python\"], fontsize=24);\n",
    "savefig(\"images/case2.fix.png\")"
   ]
  },
  {
   "cell_type": "code",
   "execution_count": 144,
   "metadata": {
    "collapsed": false
   },
   "outputs": [
    {
     "data": {
      "text/plain": [
       "47.82178206662785"
      ]
     },
     "execution_count": 144,
     "metadata": {},
     "output_type": "execute_result"
    }
   ],
   "source": [
    "0.814667538 / 0.017035491"
   ]
  },
  {
   "cell_type": "code",
   "execution_count": 142,
   "metadata": {
    "collapsed": false,
    "scrolled": false
   },
   "outputs": [
    {
     "name": "stdout",
     "output_type": "stream",
     "text": [
      "\r\n",
      "define %jl_value_t* @julia_dot_19813(%jl_value_t*, %jl_value_t**, i32) {\r\n",
      "top:\r\n",
      "  %3 = alloca [5 x %jl_value_t*], align 8\r\n",
      "  %.sub = getelementptr inbounds [5 x %jl_value_t*]* %3, i64 0, i64 0\r\n",
      "  %4 = getelementptr [5 x %jl_value_t*]* %3, i64 0, i64 2, !dbg !287\r\n",
      "  store %jl_value_t* inttoptr (i64 6 to %jl_value_t*), %jl_value_t** %.sub, align 8\r\n",
      "  %5 = load %jl_value_t*** @jl_pgcstack, align 8, !dbg !287\r\n",
      "  %6 = getelementptr [5 x %jl_value_t*]* %3, i64 0, i64 1, !dbg !287\r\n",
      "  %.c = bitcast %jl_value_t** %5 to %jl_value_t*, !dbg !287\r\n",
      "  store %jl_value_t* %.c, %jl_value_t** %6, align 8, !dbg !287\r\n",
      "  store %jl_value_t** %.sub, %jl_value_t*** @jl_pgcstack, align 8, !dbg !287\r\n",
      "  store %jl_value_t* null, %jl_value_t** %4, align 8, !dbg !287\r\n",
      "  %7 = getelementptr [5 x %jl_value_t*]* %3, i64 0, i64 3\r\n",
      "  store %jl_value_t* null, %jl_value_t** %7, align 8\r\n",
      "  %8 = getelementptr [5 x %jl_value_t*]* %3, i64 0, i64 4\r\n",
      "  store %jl_value_t* null, %jl_value_t** %8, align 8\r\n",
      "  %9 = load %jl_value_t** %1, align 8, !dbg !287\r\n",
      "  %10 = getelementptr %jl_value_t** %1, i64 1, !dbg !287\r\n",
      "  %11 = load %jl_value_t** %10, align 8, !dbg !287\r\n",
      "  store %jl_value_t* inttoptr (i64 140727623488064 to %jl_value_t*), %jl_value_t** %4, align 8, !dbg !288\r\n",
      "  %12 = getelementptr inbounds %jl_value_t* %9, i64 2, !dbg !289\r\n",
      "  %13 = bitcast %jl_value_t* %12 to i64*, !dbg !289\r\n",
      "  %14 = load i64* %13, align 8, !dbg !289, !tbaa %jtbaa_arraylen\r\n",
      "  %15 = icmp sgt i64 %14, 0, !dbg !289\r\n",
      "  br i1 %15, label %L.preheader, label %L5, !dbg !289\r\n",
      "\r\n",
      "L.preheader:                                      ; preds = %top\r\n",
      "  %16 = getelementptr inbounds %jl_value_t* %11, i64 2, !dbg !294\r\n",
      "  %17 = bitcast %jl_value_t* %16 to i64*, !dbg !294\r\n",
      "  %18 = getelementptr inbounds %jl_value_t* %9, i64 1, !dbg !294\r\n",
      "  %19 = bitcast %jl_value_t* %18 to i8**, !dbg !294\r\n",
      "  %20 = getelementptr inbounds %jl_value_t* %11, i64 1, !dbg !294\r\n",
      "  %21 = bitcast %jl_value_t* %20 to i8**, !dbg !294\r\n",
      "  br label %L, !dbg !289\r\n",
      "\r\n",
      "L:                                                ; preds = %L.preheader, %idxend2\r\n",
      "  %22 = phi %jl_value_t* [ %44, %idxend2 ], [ inttoptr (i64 140727623488064 to %jl_value_t*), %L.preheader ]\r\n",
      "  %\"#s2.0\" = phi i64 [ %30, %idxend2 ], [ 1, %L.preheader ]\r\n",
      "  store %jl_value_t* %22, %jl_value_t** %7, align 8, !dbg !294\r\n",
      "  %23 = add i64 %\"#s2.0\", -1, !dbg !294\r\n",
      "  %24 = load i64* %13, align 8, !dbg !294, !tbaa %jtbaa_arraylen\r\n",
      "  %25 = icmp ult i64 %23, %24, !dbg !294\r\n",
      "  br i1 %25, label %idxend, label %oob, !dbg !294\r\n",
      "\r\n",
      "oob:                                              ; preds = %L\r\n",
      "  %26 = load %jl_value_t** @jl_bounds_exception, align 8, !dbg !294, !tbaa %jtbaa_const\r\n",
      "  call void @jl_throw_with_superfluous_argument(%jl_value_t* %26, i32 4), !dbg !294\r\n",
      "  unreachable, !dbg !294\r\n",
      "\r\n",
      "idxend:                                           ; preds = %L\r\n",
      "  %27 = load i64* %17, align 8, !dbg !294, !tbaa %jtbaa_arraylen\r\n",
      "  %28 = icmp ult i64 %23, %27, !dbg !294\r\n",
      "  br i1 %28, label %idxend2, label %oob1, !dbg !294\r\n",
      "\r\n",
      "oob1:                                             ; preds = %idxend\r\n",
      "  %29 = load %jl_value_t** @jl_bounds_exception, align 8, !dbg !294, !tbaa %jtbaa_const\r\n",
      "  call void @jl_throw_with_superfluous_argument(%jl_value_t* %29, i32 4), !dbg !294\r\n",
      "  unreachable, !dbg !294\r\n",
      "\r\n",
      "idxend2:                                          ; preds = %idxend\r\n",
      "  %30 = add i64 %\"#s2.0\", 1, !dbg !289\r\n",
      "  %31 = load i8** %19, align 8, !dbg !294, !tbaa %jtbaa_arrayptr\r\n",
      "  %32 = bitcast i8* %31 to double*, !dbg !294\r\n",
      "  %33 = getelementptr double* %32, i64 %23, !dbg !294\r\n",
      "  %34 = load double* %33, align 8, !dbg !294, !tbaa %jtbaa_user\r\n",
      "  %35 = load i8** %21, align 8, !dbg !294, !tbaa %jtbaa_arrayptr\r\n",
      "  %36 = bitcast i8* %35 to double*, !dbg !294\r\n",
      "  %37 = getelementptr double* %36, i64 %23, !dbg !294\r\n",
      "  %38 = load double* %37, align 8, !dbg !294, !tbaa %jtbaa_user\r\n",
      "  %39 = fmul double %34, %38, !dbg !294\r\n",
      "  %40 = call %jl_value_t* @alloc_2w(), !dbg !294\r\n",
      "  %41 = getelementptr inbounds %jl_value_t* %40, i64 0, i32 0, !dbg !294\r\n",
      "  store %jl_value_t* inttoptr (i64 140727623414720 to %jl_value_t*), %jl_value_t** %41, align 8, !dbg !294\r\n",
      "  %42 = getelementptr inbounds %jl_value_t* %40, i64 1, i32 0, !dbg !294\r\n",
      "  %43 = bitcast %jl_value_t** %42 to double*, !dbg !294\r\n",
      "  store double %39, double* %43, align 8, !dbg !294\r\n",
      "  store %jl_value_t* %40, %jl_value_t** %8, align 8, !dbg !294\r\n",
      "  %44 = call %jl_value_t* @jl_apply_generic(%jl_value_t* inttoptr (i64 140727658110176 to %jl_value_t*), %jl_value_t** %7, i32 2), !dbg !294\r\n",
      "  store %jl_value_t* %44, %jl_value_t** %4, align 8, !dbg !294\r\n",
      "  %45 = icmp eq i64 %\"#s2.0\", %14, !dbg !294\r\n",
      "  br i1 %45, label %L5, label %L, !dbg !294\r\n",
      "\r\n",
      "L5:                                               ; preds = %idxend2, %top\r\n",
      "  %46 = phi %jl_value_t* [ inttoptr (i64 140727623488064 to %jl_value_t*), %top ], [ %44, %idxend2 ]\r\n",
      "  %47 = load %jl_value_t** %6, align 8, !dbg !298\r\n",
      "  %48 = getelementptr inbounds %jl_value_t* %47, i64 0, i32 0, !dbg !298\r\n",
      "  store %jl_value_t** %48, %jl_value_t*** @jl_pgcstack, align 8, !dbg !298\r\n",
      "  ret %jl_value_t* %46, !dbg !298\r\n",
      "}\r\n"
     ]
    }
   ],
   "source": [
    "!julia -L case2.jl -e '@code_llvm dot(x, y)'"
   ]
  },
  {
   "cell_type": "code",
   "execution_count": 143,
   "metadata": {
    "collapsed": false,
    "scrolled": false
   },
   "outputs": [
    {
     "name": "stdout",
     "output_type": "stream",
     "text": [
      "\r\n",
      "define double @julia_dot_19813(%jl_value_t*, %jl_value_t*) {\r\n",
      "top:\r\n",
      "  %2 = getelementptr inbounds %jl_value_t* %0, i64 2, !dbg !287\r\n",
      "  %3 = bitcast %jl_value_t* %2 to i64*, !dbg !287\r\n",
      "  %4 = load i64* %3, align 8, !dbg !287, !tbaa %jtbaa_arraylen\r\n",
      "  %5 = icmp sgt i64 %4, 0, !dbg !287\r\n",
      "  br i1 %5, label %L.preheader, label %L5, !dbg !287\r\n",
      "\r\n",
      "L.preheader:                                      ; preds = %top\r\n",
      "  %6 = load i64* %3, align 8, !dbg !292, !tbaa %jtbaa_arraylen\r\n",
      "  %7 = getelementptr inbounds %jl_value_t* %1, i64 2, !dbg !292\r\n",
      "  %8 = bitcast %jl_value_t* %7 to i64*, !dbg !292\r\n",
      "  %9 = getelementptr inbounds %jl_value_t* %0, i64 1, !dbg !292\r\n",
      "  %10 = bitcast %jl_value_t* %9 to i8**, !dbg !292\r\n",
      "  %11 = getelementptr inbounds %jl_value_t* %1, i64 1, !dbg !292\r\n",
      "  %12 = bitcast %jl_value_t* %11 to i8**, !dbg !292\r\n",
      "  br label %L, !dbg !287\r\n",
      "\r\n",
      "L:                                                ; preds = %L.preheader, %idxend2\r\n",
      "  %\"#s2.0\" = phi i64 [ %19, %idxend2 ], [ 1, %L.preheader ]\r\n",
      "  %s.0 = phi double [ %29, %idxend2 ], [ 0.000000e+00, %L.preheader ]\r\n",
      "  %13 = add i64 %\"#s2.0\", -1, !dbg !292\r\n",
      "  %14 = icmp ult i64 %13, %6, !dbg !292\r\n",
      "  br i1 %14, label %idxend, label %oob, !dbg !292\r\n",
      "\r\n",
      "oob:                                              ; preds = %L\r\n",
      "  %15 = load %jl_value_t** @jl_bounds_exception, align 8, !dbg !292, !tbaa %jtbaa_const\r\n",
      "  call void @jl_throw_with_superfluous_argument(%jl_value_t* %15, i32 4), !dbg !292\r\n",
      "  unreachable, !dbg !292\r\n",
      "\r\n",
      "idxend:                                           ; preds = %L\r\n",
      "  %16 = load i64* %8, align 8, !dbg !292, !tbaa %jtbaa_arraylen\r\n",
      "  %17 = icmp ult i64 %13, %16, !dbg !292\r\n",
      "  br i1 %17, label %idxend2, label %oob1, !dbg !292\r\n",
      "\r\n",
      "oob1:                                             ; preds = %idxend\r\n",
      "  %18 = load %jl_value_t** @jl_bounds_exception, align 8, !dbg !292, !tbaa %jtbaa_const\r\n",
      "  call void @jl_throw_with_superfluous_argument(%jl_value_t* %18, i32 4), !dbg !292\r\n",
      "  unreachable, !dbg !292\r\n",
      "\r\n",
      "idxend2:                                          ; preds = %idxend\r\n",
      "  %19 = add i64 %\"#s2.0\", 1, !dbg !287\r\n",
      "  %20 = load i8** %10, align 8, !dbg !292, !tbaa %jtbaa_arrayptr\r\n",
      "  %21 = bitcast i8* %20 to double*, !dbg !292\r\n",
      "  %22 = getelementptr double* %21, i64 %13, !dbg !292\r\n",
      "  %23 = load double* %22, align 8, !dbg !292, !tbaa %jtbaa_user\r\n",
      "  %24 = load i8** %12, align 8, !dbg !292, !tbaa %jtbaa_arrayptr\r\n",
      "  %25 = bitcast i8* %24 to double*, !dbg !292\r\n",
      "  %26 = getelementptr double* %25, i64 %13, !dbg !292\r\n",
      "  %27 = load double* %26, align 8, !dbg !292, !tbaa %jtbaa_user\r\n",
      "  %28 = fmul double %23, %27, !dbg !292\r\n",
      "  %29 = fadd double %s.0, %28, !dbg !292\r\n",
      "  %30 = icmp eq i64 %\"#s2.0\", %4, !dbg !292\r\n",
      "  br i1 %30, label %L5, label %L, !dbg !292\r\n",
      "\r\n",
      "L5:                                               ; preds = %idxend2, %top\r\n",
      "  %s.1 = phi double [ 0.000000e+00, %top ], [ %29, %idxend2 ]\r\n",
      "  ret double %s.1, !dbg !296\r\n",
      "}\r\n"
     ]
    }
   ],
   "source": [
    "!julia -L case2.fix.jl -e '@code_llvm dot(x, y)'"
   ]
  },
  {
   "cell_type": "markdown",
   "metadata": {},
   "source": [
    "## Case 3"
   ]
  },
  {
   "cell_type": "code",
   "execution_count": 188,
   "metadata": {
    "collapsed": false
   },
   "outputs": [
    {
     "name": "stdout",
     "output_type": "stream",
     "text": [
      "function grad!(g::Vector, x::Vector)\r\n",
      "    # dummy\r\n",
      "end\r\n",
      "\r\n",
      "function optimize(x0, n_iter)\r\n",
      "    η = 0.1\r\n",
      "    x = copy(x0)\r\n",
      "    g = zeros(length(x0))\r\n",
      "    for i in 1:n_iter\r\n",
      "        grad!(g, x)\r\n",
      "        x -= η * g\r\n",
      "    end\r\n",
      "    x\r\n",
      "end\r\n",
      "\r\n",
      "optimize(zeros(2), 3)\r\n",
      "x0 = zeros(1000)\r\n"
     ]
    }
   ],
   "source": [
    "cat case3.jl"
   ]
  },
  {
   "cell_type": "code",
   "execution_count": 150,
   "metadata": {
    "collapsed": false
   },
   "outputs": [
    {
     "name": "stdout",
     "output_type": "stream",
     "text": [
      "import numpy as np\r\n",
      "\r\n",
      "def set_grad(g, x):\r\n",
      "    pass\r\n",
      "\r\n",
      "def optimize(x0, n_iter):\r\n",
      "    eta = 0.1\r\n",
      "    x = np.copy(x0)\r\n",
      "    g = np.zeros(len(x0))\r\n",
      "    for i in xrange(n_iter):\r\n",
      "        set_grad(g, x)\r\n",
      "        x -= eta * g\r\n",
      "    return x\r\n"
     ]
    }
   ],
   "source": [
    "cat case3.py"
   ]
  },
  {
   "cell_type": "code",
   "execution_count": 189,
   "metadata": {
    "collapsed": false
   },
   "outputs": [
    {
     "name": "stdout",
     "output_type": "stream",
     "text": [
      "elapsed time: 0.527045846 seconds (812429992 bytes allocated, 53.60% gc time)\n"
     ]
    }
   ],
   "source": [
    "!julia -L case3.jl -e '@time optimize(x0, 50000)'"
   ]
  },
  {
   "cell_type": "code",
   "execution_count": 179,
   "metadata": {
    "collapsed": false
   },
   "outputs": [],
   "source": [
    "run case3.py"
   ]
  },
  {
   "cell_type": "code",
   "execution_count": 180,
   "metadata": {
    "collapsed": true
   },
   "outputs": [],
   "source": [
    "x0 = np.zeros(1000)"
   ]
  },
  {
   "cell_type": "code",
   "execution_count": 181,
   "metadata": {
    "collapsed": false,
    "scrolled": true
   },
   "outputs": [
    {
     "name": "stdout",
     "output_type": "stream",
     "text": [
      "10 loops, best of 3: 128 ms per loop\n"
     ]
    }
   ],
   "source": [
    "%timeit optimize(x0, 50000)"
   ]
  },
  {
   "cell_type": "code",
   "execution_count": 190,
   "metadata": {
    "collapsed": false
   },
   "outputs": [
    {
     "data": {
      "image/png": "[encoded data removed]",
      "text/plain": [
       "<matplotlib.figure.Figure at 0x11c4b2c50>"
      ]
     },
     "metadata": {},
     "output_type": "display_data"
    }
   ],
   "source": [
    "figsize(6, 4)\n",
    "bar([1, 2], [0.527045846 * 1000, 128], align=\"center\", color=\"steelblue\")\n",
    "ylabel(\"elapsed time [msec]\", fontsize=16)\n",
    "xticks([1, 2], [\"Julia\", \"Python\"], fontsize=24)\n",
    "savefig(\"images/case3.png\")"
   ]
  },
  {
   "cell_type": "code",
   "execution_count": 156,
   "metadata": {
    "collapsed": false
   },
   "outputs": [
    {
     "name": "stdout",
     "output_type": "stream",
     "text": [
      "function grad!(g::Vector, x::Vector)\r\n",
      "    # dummy\r\n",
      "end\r\n",
      "\r\n",
      "function optimize(x0, iter)\r\n",
      "    η = 0.1\r\n",
      "    n = length(x0)\r\n",
      "    x = copy(x0)\r\n",
      "    g = zeros(n)\r\n",
      "    for i in 1:iter\r\n",
      "        grad!(g, x)\r\n",
      "        for j in 1:n\r\n",
      "            x[j] -= η * g[j]\r\n",
      "        end\r\n",
      "    end\r\n",
      "    x\r\n",
      "end\r\n",
      "\r\n",
      "optimize(zeros(2), 3)\r\n",
      "x0 = zeros(1000)\r\n"
     ]
    }
   ],
   "source": [
    "cat case3.fix.jl"
   ]
  },
  {
   "cell_type": "code",
   "execution_count": 183,
   "metadata": {
    "collapsed": false
   },
   "outputs": [
    {
     "name": "stdout",
     "output_type": "stream",
     "text": [
      "elapsed time: 0.061146564 seconds (29976 bytes allocated)\n"
     ]
    }
   ],
   "source": [
    "!julia -L case3.fix.jl -e '@time optimize(x0, 50000)'"
   ]
  },
  {
   "cell_type": "code",
   "execution_count": 191,
   "metadata": {
    "collapsed": false
   },
   "outputs": [
    {
     "data": {
      "image/png": "[encoded data removed]",
      "text/plain": [
       "<matplotlib.figure.Figure at 0x11c652350>"
      ]
     },
     "metadata": {},
     "output_type": "display_data"
    }
   ],
   "source": [
    "figsize(8, 4)\n",
    "bar([1, 2, 3], [0.527045846 * 1000, 0.061146564 * 1000, 128], align=\"center\", color=\"steelblue\")\n",
    "ylabel(\"elapsed time [msec]\", fontsize=16)\n",
    "xticks([1, 2, 3], [\"Julia\", \"Julia (fixed)\", \"Python\"], fontsize=24);\n",
    "savefig(\"images/case3.fix.png\")"
   ]
  },
  {
   "cell_type": "code",
   "execution_count": 185,
   "metadata": {
    "collapsed": false
   },
   "outputs": [
    {
     "name": "stdout",
     "output_type": "stream",
     "text": [
      "function grad!(g::Vector, x::Vector)\r\n",
      "    # dummy\r\n",
      "end\r\n",
      "\r\n",
      "function optimize(x0, iter)\r\n",
      "    η = 0.1\r\n",
      "    n = length(x0)\r\n",
      "    x = copy(x0)\r\n",
      "    g = zeros(n)\r\n",
      "    for i in 1:iter\r\n",
      "        grad!(g, x)\r\n",
      "        BLAS.scal!(n, η, g, 1)\r\n",
      "    end\r\n",
      "    x\r\n",
      "end\r\n",
      "\r\n",
      "optimize(zeros(2), 3)\r\n",
      "x0 = zeros(1000)\r\n"
     ]
    }
   ],
   "source": [
    "cat case3.blas.jl"
   ]
  },
  {
   "cell_type": "code",
   "execution_count": 186,
   "metadata": {
    "collapsed": false
   },
   "outputs": [
    {
     "name": "stdout",
     "output_type": "stream",
     "text": [
      "elapsed time: 0.009124907 seconds (29976 bytes allocated)\n"
     ]
    }
   ],
   "source": [
    "!julia -L case3.blas.jl -e '@time optimize(x0, 50000)'"
   ]
  },
  {
   "cell_type": "code",
   "execution_count": 192,
   "metadata": {
    "collapsed": false
   },
   "outputs": [
    {
     "data": {
      "image/png": "[encoded data removed]",
      "text/plain": [
       "<matplotlib.figure.Figure at 0x11c4a3790>"
      ]
     },
     "metadata": {},
     "output_type": "display_data"
    }
   ],
   "source": [
    "figsize(8, 4)\n",
    "bar([1, 2, 3], [0.527045846 * 1000, 0.061146564 * 1000, 0.009124907 * 1000], align=\"center\", color=\"steelblue\")\n",
    "ylabel(\"elapsed time [msec]\", fontsize=16)\n",
    "xticks([1, 2, 3], [\"Julia\", \"Julia (fixed)\", \"Julia (BLAS)\"], fontsize=24);\n",
    "savefig(\"images/case3.blas.png\")"
   ]
  },
  {
   "cell_type": "markdown",
   "metadata": {},
   "source": [
    "## Versions and Environment"
   ]
  },
  {
   "cell_type": "code",
   "execution_count": 173,
   "metadata": {
    "collapsed": false
   },
   "outputs": [
    {
     "name": "stdout",
     "output_type": "stream",
     "text": [
      "2.7.9 (default, Feb  4 2015, 03:28:46) \n",
      "[GCC 4.2.1 Compatible Apple LLVM 6.0 (clang-600.0.56)]\n",
      "lapack_opt_info:\n",
      "    extra_link_args = ['-Wl,-framework', '-Wl,Accelerate']\n",
      "    extra_compile_args = ['-msse3', '-DAPPLE_ACCELERATE_SGEMV_PATCH']\n",
      "    define_macros = [('NO_ATLAS_INFO', 3)]\n",
      "openblas_lapack_info:\n",
      "  NOT AVAILABLE\n",
      "atlas_3_10_blas_threads_info:\n",
      "  NOT AVAILABLE\n",
      "atlas_threads_info:\n",
      "  NOT AVAILABLE\n",
      "atlas_3_10_threads_info:\n",
      "  NOT AVAILABLE\n",
      "atlas_blas_info:\n",
      "  NOT AVAILABLE\n",
      "atlas_3_10_blas_info:\n",
      "  NOT AVAILABLE\n",
      "atlas_blas_threads_info:\n",
      "  NOT AVAILABLE\n",
      "openblas_info:\n",
      "  NOT AVAILABLE\n",
      "blas_mkl_info:\n",
      "  NOT AVAILABLE\n",
      "blas_opt_info:\n",
      "    extra_link_args = ['-Wl,-framework', '-Wl,Accelerate']\n",
      "    extra_compile_args = ['-msse3', '-DAPPLE_ACCELERATE_SGEMV_PATCH', '-I/System/Library/Frameworks/vecLib.framework/Headers']\n",
      "    define_macros = [('NO_ATLAS_INFO', 3)]\n",
      "atlas_info:\n",
      "  NOT AVAILABLE\n",
      "atlas_3_10_info:\n",
      "  NOT AVAILABLE\n",
      "lapack_mkl_info:\n",
      "  NOT AVAILABLE\n",
      "mkl_info:\n",
      "  NOT AVAILABLE\n"
     ]
    }
   ],
   "source": [
    "import sys\n",
    "print sys.version\n",
    "np.__config__.show()"
   ]
  },
  {
   "cell_type": "code",
   "execution_count": 13,
   "metadata": {
    "collapsed": false
   },
   "outputs": [
    {
     "name": "stdout",
     "output_type": "stream",
     "text": [
      "Julia Version 0.3.7\n",
      "Commit cb9bcae* (2015-03-23 21:36 UTC)\n",
      "Platform Info:\n",
      "  System: Darwin (x86_64-apple-darwin14.1.0)\n",
      "  CPU: Intel(R) Core(TM) i5-4288U CPU @ 2.60GHz\n",
      "  WORD_SIZE: 64\n",
      "  BLAS: libopenblas (USE64BITINT DYNAMIC_ARCH NO_AFFINITY Haswell)\n",
      "  LAPACK: libopenblas\n",
      "  LIBM: libopenlibm\n",
      "  LLVM: libLLVM-3.3\n"
     ]
    }
   ],
   "source": [
    "!julia -e 'versioninfo()'"
   ]
  }
 ],
 "metadata": {
  "kernelspec": {
   "display_name": "Python 2",
   "language": "python",
   "name": "python2"
  },
  "language_info": {
   "codemirror_mode": {
    "name": "ipython",
    "version": 2
   },
   "file_extension": ".py",
   "mimetype": "text/x-python",
   "name": "python",
   "nbconvert_exporter": "python",
   "pygments_lexer": "ipython2",
   "version": "2.7.9"
  }
 },
 "nbformat": 4,
 "nbformat_minor": 0
}
